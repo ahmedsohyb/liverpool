{
  "cells": [
    {
      "cell_type": "markdown",
      "metadata": {
        "id": "view-in-github",
        "colab_type": "text"
      },
      "source": [
        "<a href=\"https://colab.research.google.com/github/ahmedsohyb/liverpool/blob/main/Untitled1.ipynb\" target=\"_parent\"><img src=\"https://colab.research.google.com/assets/colab-badge.svg\" alt=\"Open In Colab\"/></a>"
      ]
    },
    {
      "cell_type": "code",
      "execution_count": null,
      "metadata": {
        "colab": {
          "base_uri": "https://localhost:8080/"
        },
        "id": "tIpM11b9ZFiI",
        "outputId": "f80d68b8-89db-4172-a5c7-950b14ccfb3f"
      },
      "outputs": [
        {
          "output_type": "stream",
          "name": "stdout",
          "text": [
            "Authtoken saved to configuration file: /root/.config/ngrok/ngrok.yml\n",
            "Requirement already satisfied: flask in /usr/local/lib/python3.11/dist-packages (3.1.1)\n",
            "Requirement already satisfied: twilio in /usr/local/lib/python3.11/dist-packages (9.7.0)\n",
            "Requirement already satisfied: pyngrok in /usr/local/lib/python3.11/dist-packages (7.3.0)\n",
            "Requirement already satisfied: requests in /usr/local/lib/python3.11/dist-packages (2.32.3)\n",
            "Requirement already satisfied: beautifulsoup4 in /usr/local/lib/python3.11/dist-packages (4.13.4)\n",
            "Requirement already satisfied: google-genai in /usr/local/lib/python3.11/dist-packages (1.28.0)\n",
            "Requirement already satisfied: openai in /usr/local/lib/python3.11/dist-packages (1.99.1)\n",
            "Requirement already satisfied: blinker>=1.9.0 in /usr/local/lib/python3.11/dist-packages (from flask) (1.9.0)\n",
            "Requirement already satisfied: click>=8.1.3 in /usr/local/lib/python3.11/dist-packages (from flask) (8.2.1)\n",
            "Requirement already satisfied: itsdangerous>=2.2.0 in /usr/local/lib/python3.11/dist-packages (from flask) (2.2.0)\n",
            "Requirement already satisfied: jinja2>=3.1.2 in /usr/local/lib/python3.11/dist-packages (from flask) (3.1.6)\n",
            "Requirement already satisfied: markupsafe>=2.1.1 in /usr/local/lib/python3.11/dist-packages (from flask) (3.0.2)\n",
            "Requirement already satisfied: werkzeug>=3.1.0 in /usr/local/lib/python3.11/dist-packages (from flask) (3.1.3)\n",
            "Requirement already satisfied: PyJWT<3.0.0,>=2.0.0 in /usr/local/lib/python3.11/dist-packages (from twilio) (2.10.1)\n",
            "Requirement already satisfied: aiohttp>=3.8.4 in /usr/local/lib/python3.11/dist-packages (from twilio) (3.12.15)\n",
            "Requirement already satisfied: aiohttp-retry>=2.8.3 in /usr/local/lib/python3.11/dist-packages (from twilio) (2.9.1)\n",
            "Requirement already satisfied: PyYAML>=5.1 in /usr/local/lib/python3.11/dist-packages (from pyngrok) (6.0.2)\n",
            "Requirement already satisfied: charset-normalizer<4,>=2 in /usr/local/lib/python3.11/dist-packages (from requests) (3.4.2)\n",
            "Requirement already satisfied: idna<4,>=2.5 in /usr/local/lib/python3.11/dist-packages (from requests) (3.10)\n",
            "Requirement already satisfied: urllib3<3,>=1.21.1 in /usr/local/lib/python3.11/dist-packages (from requests) (2.5.0)\n",
            "Requirement already satisfied: certifi>=2017.4.17 in /usr/local/lib/python3.11/dist-packages (from requests) (2025.8.3)\n",
            "Requirement already satisfied: soupsieve>1.2 in /usr/local/lib/python3.11/dist-packages (from beautifulsoup4) (2.7)\n",
            "Requirement already satisfied: typing-extensions>=4.0.0 in /usr/local/lib/python3.11/dist-packages (from beautifulsoup4) (4.14.1)\n",
            "Requirement already satisfied: anyio<5.0.0,>=4.8.0 in /usr/local/lib/python3.11/dist-packages (from google-genai) (4.10.0)\n",
            "Requirement already satisfied: google-auth<3.0.0,>=2.14.1 in /usr/local/lib/python3.11/dist-packages (from google-genai) (2.38.0)\n",
            "Requirement already satisfied: httpx<1.0.0,>=0.28.1 in /usr/local/lib/python3.11/dist-packages (from google-genai) (0.28.1)\n",
            "Requirement already satisfied: pydantic<3.0.0,>=2.0.0 in /usr/local/lib/python3.11/dist-packages (from google-genai) (2.11.7)\n",
            "Requirement already satisfied: tenacity<9.0.0,>=8.2.3 in /usr/local/lib/python3.11/dist-packages (from google-genai) (8.5.0)\n",
            "Requirement already satisfied: websockets<15.1.0,>=13.0.0 in /usr/local/lib/python3.11/dist-packages (from google-genai) (15.0.1)\n",
            "Requirement already satisfied: distro<2,>=1.7.0 in /usr/local/lib/python3.11/dist-packages (from openai) (1.9.0)\n",
            "Requirement already satisfied: jiter<1,>=0.4.0 in /usr/local/lib/python3.11/dist-packages (from openai) (0.10.0)\n",
            "Requirement already satisfied: sniffio in /usr/local/lib/python3.11/dist-packages (from openai) (1.3.1)\n",
            "Requirement already satisfied: tqdm>4 in /usr/local/lib/python3.11/dist-packages (from openai) (4.67.1)\n",
            "Requirement already satisfied: aiohappyeyeballs>=2.5.0 in /usr/local/lib/python3.11/dist-packages (from aiohttp>=3.8.4->twilio) (2.6.1)\n",
            "Requirement already satisfied: aiosignal>=1.4.0 in /usr/local/lib/python3.11/dist-packages (from aiohttp>=3.8.4->twilio) (1.4.0)\n",
            "Requirement already satisfied: attrs>=17.3.0 in /usr/local/lib/python3.11/dist-packages (from aiohttp>=3.8.4->twilio) (25.3.0)\n",
            "Requirement already satisfied: frozenlist>=1.1.1 in /usr/local/lib/python3.11/dist-packages (from aiohttp>=3.8.4->twilio) (1.7.0)\n",
            "Requirement already satisfied: multidict<7.0,>=4.5 in /usr/local/lib/python3.11/dist-packages (from aiohttp>=3.8.4->twilio) (6.6.3)\n",
            "Requirement already satisfied: propcache>=0.2.0 in /usr/local/lib/python3.11/dist-packages (from aiohttp>=3.8.4->twilio) (0.3.2)\n",
            "Requirement already satisfied: yarl<2.0,>=1.17.0 in /usr/local/lib/python3.11/dist-packages (from aiohttp>=3.8.4->twilio) (1.20.1)\n",
            "Requirement already satisfied: cachetools<6.0,>=2.0.0 in /usr/local/lib/python3.11/dist-packages (from google-auth<3.0.0,>=2.14.1->google-genai) (5.5.2)\n",
            "Requirement already satisfied: pyasn1-modules>=0.2.1 in /usr/local/lib/python3.11/dist-packages (from google-auth<3.0.0,>=2.14.1->google-genai) (0.4.2)\n",
            "Requirement already satisfied: rsa<5,>=3.1.4 in /usr/local/lib/python3.11/dist-packages (from google-auth<3.0.0,>=2.14.1->google-genai) (4.9.1)\n",
            "Requirement already satisfied: httpcore==1.* in /usr/local/lib/python3.11/dist-packages (from httpx<1.0.0,>=0.28.1->google-genai) (1.0.9)\n",
            "Requirement already satisfied: h11>=0.16 in /usr/local/lib/python3.11/dist-packages (from httpcore==1.*->httpx<1.0.0,>=0.28.1->google-genai) (0.16.0)\n",
            "Requirement already satisfied: annotated-types>=0.6.0 in /usr/local/lib/python3.11/dist-packages (from pydantic<3.0.0,>=2.0.0->google-genai) (0.7.0)\n",
            "Requirement already satisfied: pydantic-core==2.33.2 in /usr/local/lib/python3.11/dist-packages (from pydantic<3.0.0,>=2.0.0->google-genai) (2.33.2)\n",
            "Requirement already satisfied: typing-inspection>=0.4.0 in /usr/local/lib/python3.11/dist-packages (from pydantic<3.0.0,>=2.0.0->google-genai) (0.4.1)\n",
            "Requirement already satisfied: pyasn1<0.7.0,>=0.6.1 in /usr/local/lib/python3.11/dist-packages (from pyasn1-modules>=0.2.1->google-auth<3.0.0,>=2.14.1->google-genai) (0.6.1)\n"
          ]
        }
      ],
      "source": [
        "!ngrok config add-authtoken 31C2UWp4gnQ4Ey3lJYWd9h1HDPo_7w3qhbuQatbxy9tE6RNEJ\n",
        "!pip install flask twilio pyngrok requests beautifulsoup4 google-genai openai\n"
      ]
    },
    {
      "cell_type": "code",
      "source": [
        "from flask import Flask, request\n",
        "from twilio.twiml.messaging_response import MessagingResponse\n",
        "from pyngrok import ngrok\n",
        "from google import genai\n",
        "\n",
        "# ------------------------------\n",
        "# 1- إعداد Gemini\n",
        "# ------------------------------\n",
        "gemini_api_key = \"ضع_المفتاح_الجديد_هنا\"\n",
        "client = genai.Client(api_key=gemini_api_key)\n",
        "\n",
        "# ------------------------------\n",
        "# 2- إعداد Flask\n",
        "# ------------------------------\n",
        "app = Flask(__name__)\n",
        "\n",
        "# ------------------------------\n",
        "# 3- قاعدة بيانات ثابتة للحفلات\n",
        "# ------------------------------\n",
        "events_15_aug_2025 = [\n",
        "    {\n",
        "        \"name\": \"مهرجان العلمين 2025 – U-Arena\",\n",
        "        \"artists\": \"مروان بابلو وليجي سي\",\n",
        "        \"place\": \"U-Arena، العلمين الجديدة\",\n",
        "        \"date\": \"الجمعة 15 أغسطس 2025\",\n",
        "        \"tickets\": \"متاحة عبر موقع https://tazkarti.co/PabloLegeCy\",\n",
        "        \"notes\": \"الحفل جزء من مهرجان العلمين 2025 الذي يمتد من 18 يوليو حتى 29 أغسطس\"\n",
        "    },\n",
        "    {\n",
        "        \"name\": \"مهرجان القلعة الدولي للموسيقى والغناء\",\n",
        "        \"artists\": \"نجوم الأوبرا بقيادة إيهاب عبد الحميد + فرقة وسط البلد\",\n",
        "        \"place\": \"قلعة صلاح الدين، القاهرة\",\n",
        "        \"date\": \"الجمعة 15 أغسطس 2025\",\n",
        "        \"tickets\": \"100 جنيه، متاحة عبر شباك تذاكر القلعة\",\n",
        "        \"notes\": \"المهرجان يستمر حتى 23 أغسطس 2025\"\n",
        "    },\n",
        "    {\n",
        "        \"name\": \"مسرح يلا مسرح\",\n",
        "        \"artists\": \"عرض 'يلا مسرح'\",\n",
        "        \"place\": \"The Theater، القاهرة\",\n",
        "        \"date\": \"الجمعة 15 أغسطس 2025\",\n",
        "        \"tickets\": \"متاحة عبر موقع TicketsMarche\",\n",
        "        \"notes\": \"الأسعار تتراوح بين 150 و600 جنيه\"\n",
        "    },\n",
        "    {\n",
        "        \"name\": \"حفل محمد فؤاد\",\n",
        "        \"artists\": \"محمد فؤاد\",\n",
        "        \"place\": \"مسرح سكسية، Porto Golf Alamein\",\n",
        "        \"date\": \"الجمعة 15 أغسطس 2025\",\n",
        "        \"tickets\": \"متاحة عبر موقع TicketsMarche\",\n",
        "        \"notes\": \"الأسعار تتراوح بين 400 و1000 جنيه\"\n",
        "    }\n",
        "]\n",
        "\n",
        "# ------------------------------\n",
        "# 4- إعداد endpoint لواتساب\n",
        "# ------------------------------\n",
        "@app.route(\"/whatsapp\", methods=[\"POST\"])\n",
        "def whatsapp_reply():\n",
        "    incoming_msg = request.values.get(\"Body\", \"\")\n",
        "    resp = MessagingResponse()\n",
        "    msg = resp.message()\n",
        "\n",
        "    # لو السؤال عن حفلات يوم 15/8/2025\n",
        "    if \"حفلات\" in incoming_msg or \"15/8/2025\" in incoming_msg:\n",
        "        reply = \"🎶 حفلات يوم الجمعة 15 أغسطس 2025 في مصر:\\n\\n\"\n",
        "        for e in events_15_aug_2025:\n",
        "            reply += f\"🎤 {e['name']}\\n\"\n",
        "            reply += f\"- الفنانين: {e['artists']}\\n\"\n",
        "            reply += f\"- المكان: {e['place']}\\n\"\n",
        "            reply += f\"- التاريخ: {e['date']}\\n\"\n",
        "            reply += f\"- التذاكر: {e['tickets']}\\n\"\n",
        "            reply += f\"- ملاحظات: {e['notes']}\\n\\n\"\n",
        "        msg.body(reply)\n",
        "    else:\n",
        "        # أي سؤال آخر يروح لـ Gemini\n",
        "        try:\n",
        "            response = client.models.generate_content(\n",
        "                model=\"gemini-2.5-flash\",\n",
        "                contents=incoming_msg,\n",
        "            )\n",
        "            msg.body(response.text)\n",
        "        except Exception as e:\n",
        "            msg.body(f\"حصل خطأ في Gemini: {e}\")\n",
        "\n",
        "    return str(resp)\n",
        "\n",
        "# ------------------------------\n",
        "# 5- تشغيل ngrok و Flask\n",
        "# ------------------------------\n",
        "if __name__ == \"__main__\":\n",
        "    public_url = ngrok.connect(5000)\n",
        "    print(f\"اربط رابط الويب هوك بتاع Twilio بالعنوان ده:\\n{public_url}/whatsapp\")\n",
        "    app.run(port=5000)\n"
      ],
      "metadata": {
        "colab": {
          "base_uri": "https://localhost:8080/"
        },
        "id": "FWEbqq6sDtjc",
        "outputId": "1510f1a3-5983-413a-9092-33baa89e03fe"
      },
      "execution_count": null,
      "outputs": [
        {
          "metadata": {
            "tags": null
          },
          "name": "stdout",
          "output_type": "stream",
          "text": [
            "اربط رابط الويب هوك بتاع Twilio بالعنوان ده:\n",
            "NgrokTunnel: \"https://9e560b7aec57.ngrok-free.app\" -> \"http://localhost:5000\"/whatsapp\n",
            " * Serving Flask app '__main__'\n",
            " * Debug mode: off\n"
          ]
        },
        {
          "metadata": {
            "tags": null
          },
          "name": "stderr",
          "output_type": "stream",
          "text": [
            "INFO:werkzeug:\u001b[31m\u001b[1mWARNING: This is a development server. Do not use it in a production deployment. Use a production WSGI server instead.\u001b[0m\n",
            " * Running on http://127.0.0.1:5000\n",
            "INFO:werkzeug:\u001b[33mPress CTRL+C to quit\u001b[0m\n",
            "WARNING:pyngrok.process.ngrok:t=2025-08-13T10:52:04+0000 lvl=warn msg=\"failed to check for update\" obj=updater err=\"Post \\\"https://update.equinox.io/check\\\": context deadline exceeded\"\n",
            "INFO:werkzeug:127.0.0.1 - - [13/Aug/2025 10:52:36] \"POST /whatsapp HTTP/1.1\" 200 -\n"
          ]
        }
      ]
    }
  ],
  "metadata": {
    "colab": {
      "provenance": [],
      "authorship_tag": "ABX9TyPfb1Z+pNYvJab6++wku4C8",
      "include_colab_link": true
    },
    "kernelspec": {
      "display_name": "Python 3",
      "name": "python3"
    },
    "language_info": {
      "name": "python"
    }
  },
  "nbformat": 4,
  "nbformat_minor": 0
}